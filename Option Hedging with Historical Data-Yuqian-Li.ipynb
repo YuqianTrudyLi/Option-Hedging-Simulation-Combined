{
 "cells": [
  {
   "cell_type": "markdown",
   "id": "d017db6e",
   "metadata": {},
   "source": [
    "# <center>Option Hedging with Historical Data<center>"
   ]
  },
  {
   "cell_type": "markdown",
   "id": "f020bfcb",
   "metadata": {},
   "source": [
    "<div style=\"text-align: right;\">\n",
    "    <h2>Yuqian Li</h2>\n",
    "</div>"
   ]
  },
  {
   "cell_type": "code",
   "execution_count": 1,
   "id": "62084e46",
   "metadata": {},
   "outputs": [],
   "source": [
    "import numpy as np\n",
    "import pandas as pd\n",
    "import matplotlib.pyplot as plt\n",
    "from scipy.stats import norm"
   ]
  },
  {
   "cell_type": "markdown",
   "id": "0065a7c1",
   "metadata": {},
   "source": [
    "# <center>Hedging with Historical Data<center>"
   ]
  },
  {
   "cell_type": "markdown",
   "id": "3d5557e1",
   "metadata": {},
   "source": [
    "__<span style=\"color:blue\"> Use yfinance or pandas-datareader (or any other package you’d like) to apply the analysis from the previous questions to real market data. Basically, instead of using simulated data for $S_{t}$, you can plug real one that you have carefully selected to run in your previous\n",
    "code.</span>__"
   ]
  },
  {
   "cell_type": "markdown",
   "id": "fdcee643",
   "metadata": {},
   "source": [
    "__<span style=\"color:blue\">You can choose any underlying that you’d like although I would recommend using liquid\n",
    "names: major market indices (e.g. S&P 500, SX5E, FTSE, NI225) or liquid stocks (e.g.\n",
    "AAPL, TESLA, AMZN, etc.) or main currency pairs, etc.\n",
    "Test selling options (not just ATM) and hedging them using Black-Scholes. In particular</span>__"
   ]
  },
  {
   "cell_type": "markdown",
   "id": "b906d100",
   "metadata": {},
   "source": [
    "__<span style=\"color:blue\">Conduct hedging and testing in one time window. When testing a hedging strategy, do not use data in the future of test.__</span>"
   ]
  },
  {
   "cell_type": "markdown",
   "id": "63a1fd3e",
   "metadata": {},
   "source": [
    "### __Solution:__"
   ]
  },
  {
   "cell_type": "markdown",
   "id": "3208c601",
   "metadata": {},
   "source": [
    "__1. For the whole problem, I focus on the 3-year-period: '2020-06-30' ~ '2023-06-30'. In this period,__\n",
    "\n",
    "'2020-06-30' ~ '2020-12-31' is used for calculating the historical volatility on '2021-01-04'; \n",
    "\n",
    "'2021-01-04' ~ '2023-06-30' is used for hedging and testing; \n",
    "\n",
    "__2. Construct a time window of 6 month from '2021-01-04' ~ '2021-06-30'. I do hedging and testing for the 6M call option of this period.__\n",
    "\n",
    "__3. The time window's length `tenor` is 124 days. Rebalance every 4 business days because averagely there are 4 business days in a week. So, there are 31 periods in a time window.__\n",
    "\n",
    "__4. Roll the 6M period by one business day ahead, do the hedging and testing again, till the 6M window becomes '2023-01-03' ~ '2023-06-30'. This is a 2-year hedging and testing.__   "
   ]
  },
  {
   "cell_type": "markdown",
   "id": "b13057ef",
   "metadata": {},
   "source": [
    "## Data Preparation"
   ]
  },
  {
   "cell_type": "markdown",
   "id": "43800bd4",
   "metadata": {},
   "source": [
    "### <center>__Stock Price__ <center>"
   ]
  },
  {
   "cell_type": "code",
   "execution_count": 3,
   "id": "55a0095e",
   "metadata": {},
   "outputs": [],
   "source": [
    "import yfinance as yf"
   ]
  },
  {
   "cell_type": "code",
   "execution_count": 4,
   "id": "29ebc2b1",
   "metadata": {},
   "outputs": [
    {
     "name": "stdout",
     "output_type": "stream",
     "text": [
      "[*********************100%%**********************]  1 of 1 completed\n"
     ]
    }
   ],
   "source": [
    "# Define the stock symbol (I choose Apple: AAPL)\n",
    "ticker = \"AAPL\"\n",
    "\n",
    "# Download historical stock prices\n",
    "S = yf.download(ticker, start=\"2020-06-30\", end=\"2023-07-01\")\n",
    "\n",
    "# Download historical dividends data\n",
    "dividends_data = yf.Ticker(ticker).dividends.loc[\"2020-06-30\":\"2023-07-01\"]"
   ]
  },
  {
   "cell_type": "code",
   "execution_count": 5,
   "id": "59cbae8b",
   "metadata": {},
   "outputs": [
    {
     "data": {
      "text/html": [
       "<div>\n",
       "<style scoped>\n",
       "    .dataframe tbody tr th:only-of-type {\n",
       "        vertical-align: middle;\n",
       "    }\n",
       "\n",
       "    .dataframe tbody tr th {\n",
       "        vertical-align: top;\n",
       "    }\n",
       "\n",
       "    .dataframe thead th {\n",
       "        text-align: right;\n",
       "    }\n",
       "</style>\n",
       "<table border=\"1\" class=\"dataframe\">\n",
       "  <thead>\n",
       "    <tr style=\"text-align: right;\">\n",
       "      <th></th>\n",
       "      <th>Open</th>\n",
       "      <th>High</th>\n",
       "      <th>Low</th>\n",
       "      <th>Close</th>\n",
       "      <th>S</th>\n",
       "      <th>Volume</th>\n",
       "    </tr>\n",
       "    <tr>\n",
       "      <th>Date</th>\n",
       "      <th></th>\n",
       "      <th></th>\n",
       "      <th></th>\n",
       "      <th></th>\n",
       "      <th></th>\n",
       "      <th></th>\n",
       "    </tr>\n",
       "  </thead>\n",
       "  <tbody>\n",
       "    <tr>\n",
       "      <th>2020-06-30</th>\n",
       "      <td>90.019997</td>\n",
       "      <td>91.495003</td>\n",
       "      <td>90.000000</td>\n",
       "      <td>91.199997</td>\n",
       "      <td>89.301910</td>\n",
       "      <td>140223200</td>\n",
       "    </tr>\n",
       "    <tr>\n",
       "      <th>2020-07-01</th>\n",
       "      <td>91.279999</td>\n",
       "      <td>91.839996</td>\n",
       "      <td>90.977501</td>\n",
       "      <td>91.027496</td>\n",
       "      <td>89.132996</td>\n",
       "      <td>110737200</td>\n",
       "    </tr>\n",
       "    <tr>\n",
       "      <th>2020-07-02</th>\n",
       "      <td>91.962502</td>\n",
       "      <td>92.617500</td>\n",
       "      <td>90.910004</td>\n",
       "      <td>91.027496</td>\n",
       "      <td>89.132996</td>\n",
       "      <td>114041600</td>\n",
       "    </tr>\n",
       "    <tr>\n",
       "      <th>2020-07-06</th>\n",
       "      <td>92.500000</td>\n",
       "      <td>93.945000</td>\n",
       "      <td>92.467499</td>\n",
       "      <td>93.462502</td>\n",
       "      <td>91.517326</td>\n",
       "      <td>118655600</td>\n",
       "    </tr>\n",
       "    <tr>\n",
       "      <th>2020-07-07</th>\n",
       "      <td>93.852501</td>\n",
       "      <td>94.654999</td>\n",
       "      <td>93.057503</td>\n",
       "      <td>93.172501</td>\n",
       "      <td>91.233360</td>\n",
       "      <td>112424400</td>\n",
       "    </tr>\n",
       "    <tr>\n",
       "      <th>...</th>\n",
       "      <td>...</td>\n",
       "      <td>...</td>\n",
       "      <td>...</td>\n",
       "      <td>...</td>\n",
       "      <td>...</td>\n",
       "      <td>...</td>\n",
       "    </tr>\n",
       "    <tr>\n",
       "      <th>2023-06-26</th>\n",
       "      <td>186.830002</td>\n",
       "      <td>188.050003</td>\n",
       "      <td>185.229996</td>\n",
       "      <td>185.270004</td>\n",
       "      <td>184.776733</td>\n",
       "      <td>48088700</td>\n",
       "    </tr>\n",
       "    <tr>\n",
       "      <th>2023-06-27</th>\n",
       "      <td>185.889999</td>\n",
       "      <td>188.389999</td>\n",
       "      <td>185.669998</td>\n",
       "      <td>188.059998</td>\n",
       "      <td>187.559280</td>\n",
       "      <td>50730800</td>\n",
       "    </tr>\n",
       "    <tr>\n",
       "      <th>2023-06-28</th>\n",
       "      <td>187.929993</td>\n",
       "      <td>189.899994</td>\n",
       "      <td>187.600006</td>\n",
       "      <td>189.250000</td>\n",
       "      <td>188.746124</td>\n",
       "      <td>51216800</td>\n",
       "    </tr>\n",
       "    <tr>\n",
       "      <th>2023-06-29</th>\n",
       "      <td>189.080002</td>\n",
       "      <td>190.070007</td>\n",
       "      <td>188.940002</td>\n",
       "      <td>189.589996</td>\n",
       "      <td>189.085205</td>\n",
       "      <td>46347300</td>\n",
       "    </tr>\n",
       "    <tr>\n",
       "      <th>2023-06-30</th>\n",
       "      <td>191.630005</td>\n",
       "      <td>194.479996</td>\n",
       "      <td>191.259995</td>\n",
       "      <td>193.970001</td>\n",
       "      <td>193.453568</td>\n",
       "      <td>85069600</td>\n",
       "    </tr>\n",
       "  </tbody>\n",
       "</table>\n",
       "<p>756 rows × 6 columns</p>\n",
       "</div>"
      ],
      "text/plain": [
       "                  Open        High         Low       Close           S  \\\n",
       "Date                                                                     \n",
       "2020-06-30   90.019997   91.495003   90.000000   91.199997   89.301910   \n",
       "2020-07-01   91.279999   91.839996   90.977501   91.027496   89.132996   \n",
       "2020-07-02   91.962502   92.617500   90.910004   91.027496   89.132996   \n",
       "2020-07-06   92.500000   93.945000   92.467499   93.462502   91.517326   \n",
       "2020-07-07   93.852501   94.654999   93.057503   93.172501   91.233360   \n",
       "...                ...         ...         ...         ...         ...   \n",
       "2023-06-26  186.830002  188.050003  185.229996  185.270004  184.776733   \n",
       "2023-06-27  185.889999  188.389999  185.669998  188.059998  187.559280   \n",
       "2023-06-28  187.929993  189.899994  187.600006  189.250000  188.746124   \n",
       "2023-06-29  189.080002  190.070007  188.940002  189.589996  189.085205   \n",
       "2023-06-30  191.630005  194.479996  191.259995  193.970001  193.453568   \n",
       "\n",
       "               Volume  \n",
       "Date                   \n",
       "2020-06-30  140223200  \n",
       "2020-07-01  110737200  \n",
       "2020-07-02  114041600  \n",
       "2020-07-06  118655600  \n",
       "2020-07-07  112424400  \n",
       "...               ...  \n",
       "2023-06-26   48088700  \n",
       "2023-06-27   50730800  \n",
       "2023-06-28   51216800  \n",
       "2023-06-29   46347300  \n",
       "2023-06-30   85069600  \n",
       "\n",
       "[756 rows x 6 columns]"
      ]
     },
     "execution_count": 5,
     "metadata": {},
     "output_type": "execute_result"
    }
   ],
   "source": [
    "S = S.reset_index()\n",
    "S['Date'] = S['Date'].dt.strftime('%Y-%m-%d')\n",
    "S = S.set_index(['Date'])\n",
    "S.rename(columns={'Adj Close': 'S'}, inplace=True)\n",
    "S"
   ]
  },
  {
   "cell_type": "markdown",
   "id": "2937da3c",
   "metadata": {},
   "source": [
    "### <center> __Risk-free Interest Rate__<center> "
   ]
  },
  {
   "cell_type": "markdown",
   "id": "9100ca0e",
   "metadata": {},
   "source": [
    "__<span style=\"color:blue\">\n",
    "    • Explain how you choose $r$.</span>__"
   ]
  },
  {
   "cell_type": "markdown",
   "id": "4828b4de",
   "metadata": {},
   "source": [
    "__1. Get the $r$ data from https://fred.stlouisfed.org.__\n",
    "\n",
    "__2. I choose the 6M $r$ (abbreviated as DGS6MO), in accordance with the length of the time window: `tenor`.__\n",
    "\n",
    "__3. For the $P_{0}$, $\\Delta_{0}$ of every time window, and the $\\Delta_{t}$, $P_{t}$ on every rebalancing day, use the $r$ on the previous day before that very day, because on the rebalancing day, we only know the information before.__"
   ]
  },
  {
   "cell_type": "code",
   "execution_count": null,
   "id": "e19a0d59",
   "metadata": {},
   "outputs": [],
   "source": [
    "r = pd.read_excel(\"r.xlsx\")\n",
    "r['Date'] = r['Date'].dt.strftime('%Y-%m-%d')\n",
    "r = r.set_index(['Date'])\n",
    "r = r.loc['2020-06-30':'2023-06-30']\n",
    "r = r.div(100) #original scale is %\n",
    "r"
   ]
  },
  {
   "cell_type": "markdown",
   "id": "fcc7b3d1",
   "metadata": {},
   "source": [
    "### <center>lnS and dS for later calculation<center> "
   ]
  },
  {
   "cell_type": "code",
   "execution_count": 8,
   "id": "a2ce6977",
   "metadata": {},
   "outputs": [
    {
     "data": {
      "text/html": [
       "<div>\n",
       "<style scoped>\n",
       "    .dataframe tbody tr th:only-of-type {\n",
       "        vertical-align: middle;\n",
       "    }\n",
       "\n",
       "    .dataframe tbody tr th {\n",
       "        vertical-align: top;\n",
       "    }\n",
       "\n",
       "    .dataframe thead th {\n",
       "        text-align: right;\n",
       "    }\n",
       "</style>\n",
       "<table border=\"1\" class=\"dataframe\">\n",
       "  <thead>\n",
       "    <tr style=\"text-align: right;\">\n",
       "      <th></th>\n",
       "      <th>logS</th>\n",
       "    </tr>\n",
       "    <tr>\n",
       "      <th>Date</th>\n",
       "      <th></th>\n",
       "    </tr>\n",
       "  </thead>\n",
       "  <tbody>\n",
       "    <tr>\n",
       "      <th>2020-07-01</th>\n",
       "      <td>-0.001893</td>\n",
       "    </tr>\n",
       "    <tr>\n",
       "      <th>2020-07-02</th>\n",
       "      <td>0.000000</td>\n",
       "    </tr>\n",
       "    <tr>\n",
       "      <th>2020-07-06</th>\n",
       "      <td>0.026399</td>\n",
       "    </tr>\n",
       "    <tr>\n",
       "      <th>2020-07-07</th>\n",
       "      <td>-0.003108</td>\n",
       "    </tr>\n",
       "    <tr>\n",
       "      <th>2020-07-08</th>\n",
       "      <td>0.023023</td>\n",
       "    </tr>\n",
       "    <tr>\n",
       "      <th>...</th>\n",
       "      <td>...</td>\n",
       "    </tr>\n",
       "    <tr>\n",
       "      <th>2023-06-26</th>\n",
       "      <td>-0.007582</td>\n",
       "    </tr>\n",
       "    <tr>\n",
       "      <th>2023-06-27</th>\n",
       "      <td>0.014947</td>\n",
       "    </tr>\n",
       "    <tr>\n",
       "      <th>2023-06-28</th>\n",
       "      <td>0.006308</td>\n",
       "    </tr>\n",
       "    <tr>\n",
       "      <th>2023-06-29</th>\n",
       "      <td>0.001795</td>\n",
       "    </tr>\n",
       "    <tr>\n",
       "      <th>2023-06-30</th>\n",
       "      <td>0.022840</td>\n",
       "    </tr>\n",
       "  </tbody>\n",
       "</table>\n",
       "<p>755 rows × 1 columns</p>\n",
       "</div>"
      ],
      "text/plain": [
       "                logS\n",
       "Date                \n",
       "2020-07-01 -0.001893\n",
       "2020-07-02  0.000000\n",
       "2020-07-06  0.026399\n",
       "2020-07-07 -0.003108\n",
       "2020-07-08  0.023023\n",
       "...              ...\n",
       "2023-06-26 -0.007582\n",
       "2023-06-27  0.014947\n",
       "2023-06-28  0.006308\n",
       "2023-06-29  0.001795\n",
       "2023-06-30  0.022840\n",
       "\n",
       "[755 rows x 1 columns]"
      ]
     },
     "execution_count": 8,
     "metadata": {},
     "output_type": "execute_result"
    }
   ],
   "source": [
    "# compute log\n",
    "logS = np.log(S[\"S\"] / S[\"S\"].shift(1)).dropna()\n",
    "logS = logS.to_frame()\n",
    "logS.rename(columns={'S': 'logS'}, inplace=True)\n",
    "logS"
   ]
  },
  {
   "cell_type": "markdown",
   "id": "fc2928c6",
   "metadata": {},
   "source": [
    "The meaning of the following `data` dataframe is to exclude the date when one of S and r lacks data."
   ]
  },
  {
   "cell_type": "code",
   "execution_count": 9,
   "id": "8a93a4e6",
   "metadata": {},
   "outputs": [
    {
     "data": {
      "text/html": [
       "<div>\n",
       "<style scoped>\n",
       "    .dataframe tbody tr th:only-of-type {\n",
       "        vertical-align: middle;\n",
       "    }\n",
       "\n",
       "    .dataframe tbody tr th {\n",
       "        vertical-align: top;\n",
       "    }\n",
       "\n",
       "    .dataframe thead th {\n",
       "        text-align: right;\n",
       "    }\n",
       "</style>\n",
       "<table border=\"1\" class=\"dataframe\">\n",
       "  <thead>\n",
       "    <tr style=\"text-align: right;\">\n",
       "      <th></th>\n",
       "      <th>S</th>\n",
       "      <th>r</th>\n",
       "      <th>logS</th>\n",
       "    </tr>\n",
       "    <tr>\n",
       "      <th>Date</th>\n",
       "      <th></th>\n",
       "      <th></th>\n",
       "      <th></th>\n",
       "    </tr>\n",
       "  </thead>\n",
       "  <tbody>\n",
       "    <tr>\n",
       "      <th>2020-07-01</th>\n",
       "      <td>89.132996</td>\n",
       "      <td>0.0017</td>\n",
       "      <td>-0.001893</td>\n",
       "    </tr>\n",
       "    <tr>\n",
       "      <th>2020-07-02</th>\n",
       "      <td>89.132996</td>\n",
       "      <td>0.0016</td>\n",
       "      <td>0.000000</td>\n",
       "    </tr>\n",
       "    <tr>\n",
       "      <th>2020-07-06</th>\n",
       "      <td>91.517326</td>\n",
       "      <td>0.0016</td>\n",
       "      <td>0.026399</td>\n",
       "    </tr>\n",
       "    <tr>\n",
       "      <th>2020-07-07</th>\n",
       "      <td>91.233360</td>\n",
       "      <td>0.0017</td>\n",
       "      <td>-0.003108</td>\n",
       "    </tr>\n",
       "    <tr>\n",
       "      <th>2020-07-08</th>\n",
       "      <td>93.358192</td>\n",
       "      <td>0.0017</td>\n",
       "      <td>0.023023</td>\n",
       "    </tr>\n",
       "    <tr>\n",
       "      <th>...</th>\n",
       "      <td>...</td>\n",
       "      <td>...</td>\n",
       "      <td>...</td>\n",
       "    </tr>\n",
       "    <tr>\n",
       "      <th>2023-06-26</th>\n",
       "      <td>184.776733</td>\n",
       "      <td>0.0545</td>\n",
       "      <td>-0.007582</td>\n",
       "    </tr>\n",
       "    <tr>\n",
       "      <th>2023-06-27</th>\n",
       "      <td>187.559280</td>\n",
       "      <td>0.0546</td>\n",
       "      <td>0.014947</td>\n",
       "    </tr>\n",
       "    <tr>\n",
       "      <th>2023-06-28</th>\n",
       "      <td>188.746124</td>\n",
       "      <td>0.0547</td>\n",
       "      <td>0.006308</td>\n",
       "    </tr>\n",
       "    <tr>\n",
       "      <th>2023-06-29</th>\n",
       "      <td>189.085205</td>\n",
       "      <td>0.0550</td>\n",
       "      <td>0.001795</td>\n",
       "    </tr>\n",
       "    <tr>\n",
       "      <th>2023-06-30</th>\n",
       "      <td>193.453568</td>\n",
       "      <td>0.0547</td>\n",
       "      <td>0.022840</td>\n",
       "    </tr>\n",
       "  </tbody>\n",
       "</table>\n",
       "<p>749 rows × 3 columns</p>\n",
       "</div>"
      ],
      "text/plain": [
       "                     S       r      logS\n",
       "Date                                    \n",
       "2020-07-01   89.132996  0.0017 -0.001893\n",
       "2020-07-02   89.132996  0.0016  0.000000\n",
       "2020-07-06   91.517326  0.0016  0.026399\n",
       "2020-07-07   91.233360  0.0017 -0.003108\n",
       "2020-07-08   93.358192  0.0017  0.023023\n",
       "...                ...     ...       ...\n",
       "2023-06-26  184.776733  0.0545 -0.007582\n",
       "2023-06-27  187.559280  0.0546  0.014947\n",
       "2023-06-28  188.746124  0.0547  0.006308\n",
       "2023-06-29  189.085205  0.0550  0.001795\n",
       "2023-06-30  193.453568  0.0547  0.022840\n",
       "\n",
       "[749 rows x 3 columns]"
      ]
     },
     "execution_count": 9,
     "metadata": {},
     "output_type": "execute_result"
    }
   ],
   "source": [
    "data = pd.merge(S[\"S\"], r, left_index=True, right_index=True, how='outer')\n",
    "data = pd.merge(data, logS, left_index=True, right_index=True, how='outer')\n",
    "\n",
    "data = data.dropna()\n",
    "#data = data.loc['2020-12-31':]\n",
    "data"
   ]
  },
  {
   "cell_type": "code",
   "execution_count": 10,
   "id": "e6c2f24b",
   "metadata": {},
   "outputs": [
    {
     "data": {
      "text/html": [
       "<div>\n",
       "<style scoped>\n",
       "    .dataframe tbody tr th:only-of-type {\n",
       "        vertical-align: middle;\n",
       "    }\n",
       "\n",
       "    .dataframe tbody tr th {\n",
       "        vertical-align: top;\n",
       "    }\n",
       "\n",
       "    .dataframe thead th {\n",
       "        text-align: right;\n",
       "    }\n",
       "</style>\n",
       "<table border=\"1\" class=\"dataframe\">\n",
       "  <thead>\n",
       "    <tr style=\"text-align: right;\">\n",
       "      <th></th>\n",
       "      <th>dS</th>\n",
       "    </tr>\n",
       "    <tr>\n",
       "      <th>Date</th>\n",
       "      <th></th>\n",
       "    </tr>\n",
       "  </thead>\n",
       "  <tbody>\n",
       "    <tr>\n",
       "      <th>2020-07-01</th>\n",
       "      <td>NaN</td>\n",
       "    </tr>\n",
       "    <tr>\n",
       "      <th>2020-07-02</th>\n",
       "      <td>NaN</td>\n",
       "    </tr>\n",
       "    <tr>\n",
       "      <th>2020-07-06</th>\n",
       "      <td>NaN</td>\n",
       "    </tr>\n",
       "    <tr>\n",
       "      <th>2020-07-07</th>\n",
       "      <td>NaN</td>\n",
       "    </tr>\n",
       "    <tr>\n",
       "      <th>2020-07-08</th>\n",
       "      <td>4.225197</td>\n",
       "    </tr>\n",
       "    <tr>\n",
       "      <th>...</th>\n",
       "      <td>...</td>\n",
       "    </tr>\n",
       "    <tr>\n",
       "      <th>2023-06-26</th>\n",
       "      <td>0.259323</td>\n",
       "    </tr>\n",
       "    <tr>\n",
       "      <th>2023-06-27</th>\n",
       "      <td>4.089066</td>\n",
       "    </tr>\n",
       "    <tr>\n",
       "      <th>2023-06-28</th>\n",
       "      <td>2.244003</td>\n",
       "    </tr>\n",
       "    <tr>\n",
       "      <th>2023-06-29</th>\n",
       "      <td>2.902252</td>\n",
       "    </tr>\n",
       "    <tr>\n",
       "      <th>2023-06-30</th>\n",
       "      <td>8.676834</td>\n",
       "    </tr>\n",
       "  </tbody>\n",
       "</table>\n",
       "<p>749 rows × 1 columns</p>\n",
       "</div>"
      ],
      "text/plain": [
       "                  dS\n",
       "Date                \n",
       "2020-07-01       NaN\n",
       "2020-07-02       NaN\n",
       "2020-07-06       NaN\n",
       "2020-07-07       NaN\n",
       "2020-07-08  4.225197\n",
       "...              ...\n",
       "2023-06-26  0.259323\n",
       "2023-06-27  4.089066\n",
       "2023-06-28  2.244003\n",
       "2023-06-29  2.902252\n",
       "2023-06-30  8.676834\n",
       "\n",
       "[749 rows x 1 columns]"
      ]
     },
     "execution_count": 10,
     "metadata": {},
     "output_type": "execute_result"
    }
   ],
   "source": [
    "# compute dS = S on that day - S 4 days ago\n",
    "dS = data[\"S\"]-data[\"S\"].shift(4)\n",
    "dS = dS.to_frame()\n",
    "dS.rename(columns={'S': 'dS'}, inplace=True)\n",
    "dS"
   ]
  },
  {
   "cell_type": "markdown",
   "id": "f1b5b657",
   "metadata": {},
   "source": [
    "Here I get the time length for calculating historical volatility."
   ]
  },
  {
   "cell_type": "code",
   "execution_count": 11,
   "id": "707fdece",
   "metadata": {},
   "outputs": [
    {
     "data": {
      "text/plain": [
       "126"
      ]
     },
     "execution_count": 11,
     "metadata": {},
     "output_type": "execute_result"
    }
   ],
   "source": [
    "# time length for calculating historical volatility\n",
    "len(data.loc[:'2020-12-31'])"
   ]
  },
  {
   "cell_type": "markdown",
   "id": "7e78872d",
   "metadata": {},
   "source": [
    "Here I get the time length of each time window."
   ]
  },
  {
   "cell_type": "code",
   "execution_count": 12,
   "id": "a4073896",
   "metadata": {},
   "outputs": [
    {
     "data": {
      "text/plain": [
       "124"
      ]
     },
     "execution_count": 12,
     "metadata": {},
     "output_type": "execute_result"
    }
   ],
   "source": [
    "# time length of each time window\n",
    "tenor = len(data.loc['2021-01-04':'2021-06-30'])\n",
    "tenor"
   ]
  },
  {
   "cell_type": "markdown",
   "id": "66b8fecf",
   "metadata": {},
   "source": [
    "### <center>Historical Volatility<center> "
   ]
  },
  {
   "cell_type": "markdown",
   "id": "75c84369",
   "metadata": {},
   "source": [
    "__<span style=\"color:blue\">• Explain how you choose the hedging volatility.</span>__"
   ]
  },
  {
   "cell_type": "markdown",
   "id": "fa724860",
   "metadata": {},
   "source": [
    "__1. The first hedging from '2021-01-04' to '2021-06-30' needs the historical volatility on '2021-01-04'. It is calculated by the stock log return `logS` in the past 126 days, i.e. from '2020-07-01' to '2020-12-31'. The fomula is shown below.__\n",
    "\n",
    "__2. Roll the 6M period by one business day ahead. The first hedging from '2021-01-05' to '2021-07-01' needs the historical volatility on '2021-01-05'. It is calculated by the stock log return from '2020-07-02' to '2020-01-04'.__\n",
    "\n",
    "__3. Keep doing that, until I get the historical volatility for '2023-01-03'. Finally, I have a list of historical volatility from '2021-01-04' to '2023-01-03', shown in `his_vol` dataframe. (Actually, I computed till '2023-06-30' , which may not be used.)__"
   ]
  },
  {
   "cell_type": "markdown",
   "id": "f4f29cd2",
   "metadata": {},
   "source": [
    "In Step 3, use the fomula in Part 1 Problem 5 (a)~(b) to calculate the historical volatility:"
   ]
  },
  {
   "cell_type": "markdown",
   "id": "4020a7f1",
   "metadata": {},
   "source": [
    "$$\\sigma = \\sqrt{\\frac{252}{n} \\sum_{i=1}^{n} (X_{t_{i}} −X_{t_{i−1}})^2}$$"
   ]
  },
  {
   "cell_type": "code",
   "execution_count": 13,
   "id": "a6711815",
   "metadata": {},
   "outputs": [],
   "source": [
    "# Initialize the historical volatility dataframe\n",
    "his_vol = pd.DataFrame(index=data.index, columns=[\"his_vol\"])\n",
    "his_vol = his_vol.loc['2021-01-04':]"
   ]
  },
  {
   "cell_type": "code",
   "execution_count": 14,
   "id": "842a9e74",
   "metadata": {},
   "outputs": [
    {
     "data": {
      "text/plain": [
       "126"
      ]
     },
     "execution_count": 14,
     "metadata": {},
     "output_type": "execute_result"
    }
   ],
   "source": [
    "# Compute the length time window used for the 1st his_vol\n",
    "vol_len = len(data['logS'])-len(data['logS'].loc['2021-01-04':])\n",
    "vol_len"
   ]
  },
  {
   "cell_type": "code",
   "execution_count": 15,
   "id": "e901f5d0",
   "metadata": {},
   "outputs": [
    {
     "data": {
      "text/html": [
       "<div>\n",
       "<style scoped>\n",
       "    .dataframe tbody tr th:only-of-type {\n",
       "        vertical-align: middle;\n",
       "    }\n",
       "\n",
       "    .dataframe tbody tr th {\n",
       "        vertical-align: top;\n",
       "    }\n",
       "\n",
       "    .dataframe thead th {\n",
       "        text-align: right;\n",
       "    }\n",
       "</style>\n",
       "<table border=\"1\" class=\"dataframe\">\n",
       "  <thead>\n",
       "    <tr style=\"text-align: right;\">\n",
       "      <th></th>\n",
       "      <th>his_vol</th>\n",
       "    </tr>\n",
       "    <tr>\n",
       "      <th>Date</th>\n",
       "      <th></th>\n",
       "    </tr>\n",
       "  </thead>\n",
       "  <tbody>\n",
       "    <tr>\n",
       "      <th>2021-01-04</th>\n",
       "      <td>0.399871</td>\n",
       "    </tr>\n",
       "    <tr>\n",
       "      <th>2021-01-05</th>\n",
       "      <td>0.400045</td>\n",
       "    </tr>\n",
       "    <tr>\n",
       "      <th>2021-01-06</th>\n",
       "      <td>0.400194</td>\n",
       "    </tr>\n",
       "    <tr>\n",
       "      <th>2021-01-07</th>\n",
       "      <td>0.400018</td>\n",
       "    </tr>\n",
       "    <tr>\n",
       "      <th>2021-01-08</th>\n",
       "      <td>0.400372</td>\n",
       "    </tr>\n",
       "    <tr>\n",
       "      <th>...</th>\n",
       "      <td>...</td>\n",
       "    </tr>\n",
       "    <tr>\n",
       "      <th>2023-06-26</th>\n",
       "      <td>0.238439</td>\n",
       "    </tr>\n",
       "    <tr>\n",
       "      <th>2023-06-27</th>\n",
       "      <td>0.238767</td>\n",
       "    </tr>\n",
       "    <tr>\n",
       "      <th>2023-06-28</th>\n",
       "      <td>0.237883</td>\n",
       "    </tr>\n",
       "    <tr>\n",
       "      <th>2023-06-29</th>\n",
       "      <td>0.227999</td>\n",
       "    </tr>\n",
       "    <tr>\n",
       "      <th>2023-06-30</th>\n",
       "      <td>0.227193</td>\n",
       "    </tr>\n",
       "  </tbody>\n",
       "</table>\n",
       "<p>623 rows × 1 columns</p>\n",
       "</div>"
      ],
      "text/plain": [
       "             his_vol\n",
       "Date                \n",
       "2021-01-04  0.399871\n",
       "2021-01-05  0.400045\n",
       "2021-01-06  0.400194\n",
       "2021-01-07  0.400018\n",
       "2021-01-08  0.400372\n",
       "...              ...\n",
       "2023-06-26  0.238439\n",
       "2023-06-27  0.238767\n",
       "2023-06-28  0.237883\n",
       "2023-06-29  0.227999\n",
       "2023-06-30  0.227193\n",
       "\n",
       "[623 rows x 1 columns]"
      ]
     },
     "execution_count": 15,
     "metadata": {},
     "output_type": "execute_result"
    }
   ],
   "source": [
    "for i in range(len(his_vol)):\n",
    "    # roll and use the sigma fomula\n",
    "    column_sum_of_squares = (logS.iloc[0+i:vol_len+i] ** 2).sum()\n",
    "    his_vol.iloc[i] = np.sqrt(252/vol_len*column_sum_of_squares)\n",
    "his_vol"
   ]
  },
  {
   "cell_type": "markdown",
   "id": "53583ebd",
   "metadata": {},
   "source": [
    "### <center>Get `data1` dataframe, which is used in the following hedging and testing.<center>"
   ]
  },
  {
   "cell_type": "markdown",
   "id": "c34e1afe",
   "metadata": {},
   "source": [
    "Include his_vol data in the `data1` dataframe."
   ]
  },
  {
   "cell_type": "code",
   "execution_count": 16,
   "id": "aaab79b8",
   "metadata": {},
   "outputs": [
    {
     "data": {
      "text/html": [
       "<div>\n",
       "<style scoped>\n",
       "    .dataframe tbody tr th:only-of-type {\n",
       "        vertical-align: middle;\n",
       "    }\n",
       "\n",
       "    .dataframe tbody tr th {\n",
       "        vertical-align: top;\n",
       "    }\n",
       "\n",
       "    .dataframe thead th {\n",
       "        text-align: right;\n",
       "    }\n",
       "</style>\n",
       "<table border=\"1\" class=\"dataframe\">\n",
       "  <thead>\n",
       "    <tr style=\"text-align: right;\">\n",
       "      <th></th>\n",
       "      <th>S</th>\n",
       "      <th>r</th>\n",
       "      <th>logS</th>\n",
       "      <th>dS</th>\n",
       "      <th>his_vol</th>\n",
       "    </tr>\n",
       "    <tr>\n",
       "      <th>Date</th>\n",
       "      <th></th>\n",
       "      <th></th>\n",
       "      <th></th>\n",
       "      <th></th>\n",
       "      <th></th>\n",
       "    </tr>\n",
       "  </thead>\n",
       "  <tbody>\n",
       "    <tr>\n",
       "      <th>2020-07-01</th>\n",
       "      <td>89.132996</td>\n",
       "      <td>0.0017</td>\n",
       "      <td>-0.001893</td>\n",
       "      <td>NaN</td>\n",
       "      <td>NaN</td>\n",
       "    </tr>\n",
       "    <tr>\n",
       "      <th>2020-07-02</th>\n",
       "      <td>89.132996</td>\n",
       "      <td>0.0016</td>\n",
       "      <td>0.000000</td>\n",
       "      <td>NaN</td>\n",
       "      <td>NaN</td>\n",
       "    </tr>\n",
       "    <tr>\n",
       "      <th>2020-07-06</th>\n",
       "      <td>91.517326</td>\n",
       "      <td>0.0016</td>\n",
       "      <td>0.026399</td>\n",
       "      <td>NaN</td>\n",
       "      <td>NaN</td>\n",
       "    </tr>\n",
       "    <tr>\n",
       "      <th>2020-07-07</th>\n",
       "      <td>91.233360</td>\n",
       "      <td>0.0017</td>\n",
       "      <td>-0.003108</td>\n",
       "      <td>NaN</td>\n",
       "      <td>NaN</td>\n",
       "    </tr>\n",
       "    <tr>\n",
       "      <th>2020-07-08</th>\n",
       "      <td>93.358192</td>\n",
       "      <td>0.0017</td>\n",
       "      <td>0.023023</td>\n",
       "      <td>4.225197</td>\n",
       "      <td>NaN</td>\n",
       "    </tr>\n",
       "    <tr>\n",
       "      <th>...</th>\n",
       "      <td>...</td>\n",
       "      <td>...</td>\n",
       "      <td>...</td>\n",
       "      <td>...</td>\n",
       "      <td>...</td>\n",
       "    </tr>\n",
       "    <tr>\n",
       "      <th>2023-06-26</th>\n",
       "      <td>184.776733</td>\n",
       "      <td>0.0545</td>\n",
       "      <td>-0.007582</td>\n",
       "      <td>0.259323</td>\n",
       "      <td>0.238439</td>\n",
       "    </tr>\n",
       "    <tr>\n",
       "      <th>2023-06-27</th>\n",
       "      <td>187.559280</td>\n",
       "      <td>0.0546</td>\n",
       "      <td>0.014947</td>\n",
       "      <td>4.089066</td>\n",
       "      <td>0.238767</td>\n",
       "    </tr>\n",
       "    <tr>\n",
       "      <th>2023-06-28</th>\n",
       "      <td>188.746124</td>\n",
       "      <td>0.0547</td>\n",
       "      <td>0.006308</td>\n",
       "      <td>2.244003</td>\n",
       "      <td>0.237883</td>\n",
       "    </tr>\n",
       "    <tr>\n",
       "      <th>2023-06-29</th>\n",
       "      <td>189.085205</td>\n",
       "      <td>0.0550</td>\n",
       "      <td>0.001795</td>\n",
       "      <td>2.902252</td>\n",
       "      <td>0.227999</td>\n",
       "    </tr>\n",
       "    <tr>\n",
       "      <th>2023-06-30</th>\n",
       "      <td>193.453568</td>\n",
       "      <td>0.0547</td>\n",
       "      <td>0.022840</td>\n",
       "      <td>8.676834</td>\n",
       "      <td>0.227193</td>\n",
       "    </tr>\n",
       "  </tbody>\n",
       "</table>\n",
       "<p>749 rows × 5 columns</p>\n",
       "</div>"
      ],
      "text/plain": [
       "                     S       r      logS        dS   his_vol\n",
       "Date                                                        \n",
       "2020-07-01   89.132996  0.0017 -0.001893       NaN       NaN\n",
       "2020-07-02   89.132996  0.0016  0.000000       NaN       NaN\n",
       "2020-07-06   91.517326  0.0016  0.026399       NaN       NaN\n",
       "2020-07-07   91.233360  0.0017 -0.003108       NaN       NaN\n",
       "2020-07-08   93.358192  0.0017  0.023023  4.225197       NaN\n",
       "...                ...     ...       ...       ...       ...\n",
       "2023-06-26  184.776733  0.0545 -0.007582  0.259323  0.238439\n",
       "2023-06-27  187.559280  0.0546  0.014947  4.089066  0.238767\n",
       "2023-06-28  188.746124  0.0547  0.006308  2.244003  0.237883\n",
       "2023-06-29  189.085205  0.0550  0.001795  2.902252  0.227999\n",
       "2023-06-30  193.453568  0.0547  0.022840  8.676834  0.227193\n",
       "\n",
       "[749 rows x 5 columns]"
      ]
     },
     "execution_count": 16,
     "metadata": {},
     "output_type": "execute_result"
    }
   ],
   "source": [
    "data1 = pd.merge(data, dS.loc['2020-07-01':], left_index=True, right_index=True, how='outer')\n",
    "#data1 = data1.loc['2020-12-31':]\n",
    "data1 = pd.merge(data1, his_vol, left_index=True, right_index=True, how='outer')\n",
    "data1"
   ]
  },
  {
   "cell_type": "markdown",
   "id": "9240ca90",
   "metadata": {},
   "source": [
    "S means the stock price on that day.\n",
    "\n",
    "r means the risk-free insterest rate on that day.\n",
    "\n",
    "dS means (the stock price on that day) - (stock price 4 days ago).\n",
    "\n",
    "his_vol means the his_vol calculated by the past 126 days."
   ]
  },
  {
   "cell_type": "markdown",
   "id": "818913d8",
   "metadata": {},
   "source": [
    "__Be careful__: For example, standing at time $t$ whose index in the `data1` dataframe is $it$, in order to make sure we use the information before $t$, we use `data1['S'][it-1]`, `data1['r'][it-1]`, and `data1['his_vol'][it-1]`, because when I generate his_vol, I use the past 126 days' data, which are data before that very day."
   ]
  },
  {
   "cell_type": "code",
   "execution_count": 214,
   "id": "dcf25e2d",
   "metadata": {},
   "outputs": [
    {
     "data": {
      "text/plain": [
       "124"
      ]
     },
     "execution_count": 214,
     "metadata": {},
     "output_type": "execute_result"
    }
   ],
   "source": [
    "len(data1.loc['2023-01-03':])"
   ]
  },
  {
   "cell_type": "code",
   "execution_count": 215,
   "id": "46ddbd10",
   "metadata": {},
   "outputs": [
    {
     "data": {
      "text/plain": [
       "500"
      ]
     },
     "execution_count": 215,
     "metadata": {},
     "output_type": "execute_result"
    }
   ],
   "source": [
    "len(data1.loc['2021-01-04':'2023-01-03'])"
   ]
  },
  {
   "cell_type": "code",
   "execution_count": 213,
   "id": "2b8a1c4a",
   "metadata": {},
   "outputs": [
    {
     "data": {
      "text/plain": [
       "126"
      ]
     },
     "execution_count": 213,
     "metadata": {},
     "output_type": "execute_result"
    }
   ],
   "source": [
    "# test whether data1 accords with data dataframe before\n",
    "len(data1.loc[:'2020-12-31'])"
   ]
  },
  {
   "cell_type": "markdown",
   "id": "4fd55155",
   "metadata": {},
   "source": [
    "__<span style=\"color:blue\">\n",
    "    • Explain if, how and why you might update it during the life of the trade.</span>__"
   ]
  },
  {
   "cell_type": "markdown",
   "id": "093404b3",
   "metadata": {},
   "source": [
    "__1. For every 6M hedging and testing (i.e. every time window), I choose the `his_vol` on the start day as the $sigma$ to calculate $P_{0}$ and the initial $\\Delta_{0}$ (with $d_{1_0}$).__\n",
    "\n",
    "__2. The time window's length `tenor` is 124 days. When rebalancing every 4 business days, I use the `his_vol` on that rebalancing day to calculate $\\Delta_{t}$ (with $d_{1_t}$).__\n",
    "\n",
    "__3. This applies to all the time windows in the 2 years.__"
   ]
  },
  {
   "cell_type": "markdown",
   "id": "12153fa7",
   "metadata": {},
   "source": [
    "### <center>Dividends<center>"
   ]
  },
  {
   "cell_type": "markdown",
   "id": "e79f529f",
   "metadata": {},
   "source": [
    "__<span style=\"color:blue\">   \n",
    "    • What should you do for dividends?</span>__"
   ]
  },
  {
   "cell_type": "code",
   "execution_count": 6,
   "id": "89a28130",
   "metadata": {},
   "outputs": [
    {
     "data": {
      "text/html": [
       "<div>\n",
       "<style scoped>\n",
       "    .dataframe tbody tr th:only-of-type {\n",
       "        vertical-align: middle;\n",
       "    }\n",
       "\n",
       "    .dataframe tbody tr th {\n",
       "        vertical-align: top;\n",
       "    }\n",
       "\n",
       "    .dataframe thead th {\n",
       "        text-align: right;\n",
       "    }\n",
       "</style>\n",
       "<table border=\"1\" class=\"dataframe\">\n",
       "  <thead>\n",
       "    <tr style=\"text-align: right;\">\n",
       "      <th></th>\n",
       "      <th>Dividends</th>\n",
       "    </tr>\n",
       "    <tr>\n",
       "      <th>Date</th>\n",
       "      <th></th>\n",
       "    </tr>\n",
       "  </thead>\n",
       "  <tbody>\n",
       "    <tr>\n",
       "      <th>2020-08-07</th>\n",
       "      <td>0.205</td>\n",
       "    </tr>\n",
       "    <tr>\n",
       "      <th>2020-11-06</th>\n",
       "      <td>0.205</td>\n",
       "    </tr>\n",
       "    <tr>\n",
       "      <th>2021-02-05</th>\n",
       "      <td>0.205</td>\n",
       "    </tr>\n",
       "    <tr>\n",
       "      <th>2021-05-07</th>\n",
       "      <td>0.220</td>\n",
       "    </tr>\n",
       "    <tr>\n",
       "      <th>2021-08-06</th>\n",
       "      <td>0.220</td>\n",
       "    </tr>\n",
       "    <tr>\n",
       "      <th>2021-11-05</th>\n",
       "      <td>0.220</td>\n",
       "    </tr>\n",
       "    <tr>\n",
       "      <th>2022-02-04</th>\n",
       "      <td>0.220</td>\n",
       "    </tr>\n",
       "    <tr>\n",
       "      <th>2022-05-06</th>\n",
       "      <td>0.230</td>\n",
       "    </tr>\n",
       "    <tr>\n",
       "      <th>2022-08-05</th>\n",
       "      <td>0.230</td>\n",
       "    </tr>\n",
       "    <tr>\n",
       "      <th>2022-11-04</th>\n",
       "      <td>0.230</td>\n",
       "    </tr>\n",
       "    <tr>\n",
       "      <th>2023-02-10</th>\n",
       "      <td>0.230</td>\n",
       "    </tr>\n",
       "    <tr>\n",
       "      <th>2023-05-12</th>\n",
       "      <td>0.240</td>\n",
       "    </tr>\n",
       "  </tbody>\n",
       "</table>\n",
       "</div>"
      ],
      "text/plain": [
       "            Dividends\n",
       "Date                 \n",
       "2020-08-07      0.205\n",
       "2020-11-06      0.205\n",
       "2021-02-05      0.205\n",
       "2021-05-07      0.220\n",
       "2021-08-06      0.220\n",
       "2021-11-05      0.220\n",
       "2022-02-04      0.220\n",
       "2022-05-06      0.230\n",
       "2022-08-05      0.230\n",
       "2022-11-04      0.230\n",
       "2023-02-10      0.230\n",
       "2023-05-12      0.240"
      ]
     },
     "execution_count": 6,
     "metadata": {},
     "output_type": "execute_result"
    }
   ],
   "source": [
    "dividends_data = pd.DataFrame(dividends_data)\n",
    "dividends_data = dividends_data.reset_index()\n",
    "dividends_data['Date'] = dividends_data['Date'].dt.strftime('%Y-%m-%d')\n",
    "dividends_data = dividends_data.set_index(['Date'])\n",
    "dividends_data"
   ]
  },
  {
   "cell_type": "markdown",
   "id": "0d4486dc",
   "metadata": {},
   "source": [
    "### 1. Dividends impact the $P_{0}$ and $\\Delta$ in the following way:"
   ]
  },
  {
   "cell_type": "markdown",
   "id": "fd9f35d5",
   "metadata": {},
   "source": [
    "$$\n",
    "Cbs_{t}=(S_{t}-D_{t})N(d_{1}) - Ke^{- r(T-t)}N(d_{2}) \n",
    "$$"
   ]
  },
  {
   "cell_type": "markdown",
   "id": "8b02b681",
   "metadata": {},
   "source": [
    "$$\n",
    "d_{1}=\\frac{ln(\\frac{S_{t}-D_{t}}{K})+(r+\\frac{\\sigma^{2}}{2})(T-t)}{\\sigma \\sqrt{T-t}}\n",
    "$$"
   ]
  },
  {
   "cell_type": "markdown",
   "id": "b2e0d98e",
   "metadata": {},
   "source": [
    "$$\n",
    "d_{2}=\\frac{ln(\\frac{S_{t}-D_{t}}{K})+(r-\\frac{\\sigma^{2}}{2})(T-t)}{\\sigma \\sqrt{T-t}}=d_{1}-{\\sigma \\sqrt{T-t}}\n",
    "$$"
   ]
  },
  {
   "cell_type": "markdown",
   "id": "3558ec24",
   "metadata": {},
   "source": [
    "where $D_{t}$ is the present value at $t$ of all the dividends after $t$ during the option's life."
   ]
  },
  {
   "cell_type": "markdown",
   "id": "a5af7cc1",
   "metadata": {},
   "source": [
    "### 2. Method to predict future dividends."
   ]
  },
  {
   "cell_type": "markdown",
   "id": "3495a7c5",
   "metadata": {},
   "source": [
    "__Since we only have the past data, for every time 124-day window, I assume that dividends are given on the same days and with the same amounts as the 124-day last time window.__"
   ]
  },
  {
   "cell_type": "markdown",
   "id": "587047b7",
   "metadata": {},
   "source": [
    "For example, for time window 124-day '2021-01-04'-'2021-06-30', I refer to the last 124-day time window: '2020-07-02'-'2020-12-31'. In the last time window, dividends are given twice: $\\$0.205$ and $\\$0.205$, each on '2020-08-07' and '2020-11-06'. They are respectively the 151th and 215th day in the last time window. Therefore, I assert that on the 151th and 215th day in this time window, there are dividends $\\$0.205$ and $\\$0.205$ given respectively."
   ]
  },
  {
   "cell_type": "markdown",
   "id": "78ab3b10",
   "metadata": {},
   "source": [
    "All the time window whose start date is from '2021-01-04' to '2023-01-04' follows the above rule, in terms of predicting dividends cases."
   ]
  },
  {
   "cell_type": "markdown",
   "id": "50cf4421",
   "metadata": {},
   "source": [
    "__This assumption is reasonable under the premise that the dividends are given around every 3 months, and the 6M time window is a multiplier of 3M.__"
   ]
  },
  {
   "cell_type": "markdown",
   "id": "80f6a6dc",
   "metadata": {},
   "source": [
    "__Be careful: for every 124-day time window and in this time window every 4-day rebalance period, I take the dividends on the end day into consideration, while ignoring the dividends on the start day.__\n",
    "The reason is that I believe that dividends given on the start day have already impacted the stock price, so there is no need to deduct the dividends on stock price."
   ]
  },
  {
   "cell_type": "markdown",
   "id": "bae71c04",
   "metadata": {},
   "source": [
    "### 3. Use `pandas_market_calendars` to calculate the BUS time length."
   ]
  },
  {
   "cell_type": "code",
   "execution_count": 26,
   "id": "ea081351",
   "metadata": {},
   "outputs": [],
   "source": [
    "import pandas_market_calendars as mcal"
   ]
  },
  {
   "cell_type": "code",
   "execution_count": 35,
   "id": "5b8029ee",
   "metadata": {},
   "outputs": [],
   "source": [
    "nyse = mcal.get_calendar('XNYS')\n",
    "\n",
    "def getBUScount(start_date, end_date):\n",
    "\n",
    "    schedule = nyse.schedule(start_date=start_date, end_date=end_date)\n",
    "    workdays_count = nyse.valid_days(start_date=start_date, end_date=end_date)\n",
    "\n",
    "    return len(workdays_count)"
   ]
  },
  {
   "cell_type": "code",
   "execution_count": 36,
   "id": "b548ce90",
   "metadata": {},
   "outputs": [
    {
     "data": {
      "text/plain": [
       "[65, 62, 64, 64, 65, 63, 64, 63, 65, 67, 64]"
      ]
     },
     "execution_count": 36,
     "metadata": {},
     "output_type": "execute_result"
    }
   ],
   "source": [
    "#Test\n",
    "BUScount = []\n",
    "for i in range(len(dividends_data)-1):\n",
    "    start_date = dividends_data.index[i]\n",
    "    end_date = dividends_data.index[i+1]\n",
    "    BUScount.append(getBUScount(start_date, end_date))\n",
    "BUScount"
   ]
  },
  {
   "cell_type": "markdown",
   "id": "b7739aa4",
   "metadata": {},
   "source": [
    "Be careful: the result includes both the start_day and the end_day."
   ]
  },
  {
   "cell_type": "markdown",
   "id": "e983d6de",
   "metadata": {},
   "source": [
    "### 4. Calculate the present value of dividends: $D$"
   ]
  },
  {
   "cell_type": "markdown",
   "id": "1477813f",
   "metadata": {},
   "source": [
    "Standing at any time $t$, "
   ]
  },
  {
   "cell_type": "markdown",
   "id": "f924121d",
   "metadata": {},
   "source": [
    "$$D_{t} = \\sum_{i} D_{i}e^{-r\\Delta t_{i}} $$"
   ]
  },
  {
   "cell_type": "markdown",
   "id": "1461b8ac",
   "metadata": {},
   "source": [
    "where $D_{t}$ is the present value at $t$ of all the dividends after $t$ during the option's life, $D_{i}$ is the predictded dividend value of dividend paid on the ist dividend day $t_{i}$, $r$ is the risk-free interest rate oberserved on the day before $t_{i}$, and $\\Delta t_{i} = t_{i} - t$ is the time length between dividend date and now $t$."
   ]
  },
  {
   "cell_type": "markdown",
   "id": "107ce1af",
   "metadata": {},
   "source": [
    "I do not need to determine the number of $i$, because when coding I use a loop to get all the qualified dividend date."
   ]
  },
  {
   "cell_type": "markdown",
   "id": "f9e78e4f",
   "metadata": {},
   "source": [
    "__Be careful:__"
   ]
  },
  {
   "cell_type": "markdown",
   "id": "6e7adc04",
   "metadata": {},
   "source": [
    "__If $t\\ge t_{i}, D_{i} = 0$.__"
   ]
  },
  {
   "cell_type": "markdown",
   "id": "8a6b777c",
   "metadata": {},
   "source": [
    "Here are the codes to realize the words above."
   ]
  },
  {
   "cell_type": "code",
   "execution_count": 185,
   "id": "8283ec58",
   "metadata": {},
   "outputs": [],
   "source": [
    "# i0 is window start i0 in data1\n",
    "def getNearest2D(i0):\n",
    "    start_date = data1.index[i0-tenor]\n",
    "    day1 = data1.index[i0-tenor+1] # ignore the dividend at start date\n",
    "    day2 = data1.index[i0-1]\n",
    "    df = dividends_data[day1:day2]\n",
    "    ids = []\n",
    "    Ds = []\n",
    "    for i in range(len(df)):\n",
    "        end_date = df.index[i]\n",
    "        ids.append(i0+getBUScount(start_date, end_date)-1)\n",
    "        Ds.append(df['Dividends'].iloc[i])\n",
    "        \n",
    "    return [ids,Ds]\n",
    "# return the i in data1 of dividend days in this window"
   ]
  },
  {
   "cell_type": "code",
   "execution_count": 161,
   "id": "d098fe5b",
   "metadata": {},
   "outputs": [
    {
     "data": {
      "text/plain": [
       "[[150, 214], [0.205, 0.205]]"
      ]
     },
     "execution_count": 161,
     "metadata": {},
     "output_type": "execute_result"
    }
   ],
   "source": [
    "# Test, here is a case of 2 dividend days in a time window\n",
    "getNearest2D(data1.index.get_loc('2021-01-04'))"
   ]
  },
  {
   "cell_type": "code",
   "execution_count": 218,
   "id": "29632ff0",
   "metadata": {},
   "outputs": [
    {
     "data": {
      "text/plain": [
       "[[336], [0.22]]"
      ]
     },
     "execution_count": 218,
     "metadata": {},
     "output_type": "execute_result"
    }
   ],
   "source": [
    "# Test, here is a case of only 1 dividend day in a time window\n",
    "getNearest2D(data1.index.get_loc('2021-08-04'))"
   ]
  },
  {
   "cell_type": "code",
   "execution_count": 186,
   "id": "dc8d6f55",
   "metadata": {},
   "outputs": [],
   "source": [
    "# i0 is the start day No. of this window in data1\n",
    "# it is the rebalancing day No. \n",
    "def DPV(i0,it):\n",
    "    DPV = 0\n",
    "    for i in range(np.shape(getNearest2D(i0))[1]):\n",
    "        if getNearest2D(i0)[0][i] > it:\n",
    "            DPV += getNearest2D(i0)[1][i]*np.exp(-data1['r'][it-1]*(getNearest2D(i0)[0][i]-it)/252)\n",
    "    \n",
    "    return DPV"
   ]
  },
  {
   "cell_type": "markdown",
   "id": "3b6e3afd",
   "metadata": {},
   "source": [
    "## <center>Hedging and Testing in 1 time window<center>"
   ]
  },
  {
   "cell_type": "markdown",
   "id": "56bea5a3",
   "metadata": {},
   "source": [
    "$$\n",
    "Cbs_{t}=(S_{t}-D_{t})N(d_{1}) - Ke^{- r(T-t)}N(d_{2}) \n",
    "$$"
   ]
  },
  {
   "cell_type": "markdown",
   "id": "a70f8679",
   "metadata": {},
   "source": [
    "$$\n",
    "d_{1}=\\frac{ln(\\frac{S_{t}-D_{t}}{K})+(r+\\frac{\\sigma^{2}}{2})(T-t)}{\\sigma \\sqrt{T-t}}\n",
    "$$"
   ]
  },
  {
   "cell_type": "markdown",
   "id": "88caacf0",
   "metadata": {},
   "source": [
    "$$\\Delta_{t} = N(d_{1})$$"
   ]
  },
  {
   "cell_type": "markdown",
   "id": "20c85434",
   "metadata": {},
   "source": [
    "$$\n",
    "d_{2}=\\frac{ln(\\frac{S_{t}-D_{t}}{K})+(r-\\frac{\\sigma^{2}}{2})(T-t)}{\\sigma \\sqrt{T-t}}=d_{1}-{\\sigma \\sqrt{T-t}}\n",
    "$$"
   ]
  },
  {
   "cell_type": "markdown",
   "id": "451bfc78",
   "metadata": {},
   "source": [
    "$$P_{0} = Cbs_{0}$$"
   ]
  },
  {
   "cell_type": "markdown",
   "id": "aa2f7fe7",
   "metadata": {},
   "source": [
    "$$dP_{t} = rP_{t}dt+\\Delta_{t}(dS_{t}-rS_{t}dt)$$"
   ]
  },
  {
   "cell_type": "markdown",
   "id": "9e61ed0b",
   "metadata": {},
   "source": [
    "$$P_{t} = P_{t}+dP_{t}$$"
   ]
  },
  {
   "cell_type": "markdown",
   "id": "e3cff8de",
   "metadata": {},
   "source": [
    "__Be careful: As what I said before, standing at time $t$, which corresponds to the row number (in `data1`) $it$, I should use $S_{it-1}$, $r_{it-1}$, $dS_{it-1}$, and $sigma_{it}$. $T$ is the end date of this time window.__"
   ]
  },
  {
   "cell_type": "code",
   "execution_count": 187,
   "id": "3d9377b8",
   "metadata": {},
   "outputs": [],
   "source": [
    "def d(i0,it,K,BE):\n",
    "    if BE == False:\n",
    "        d1 = (np.log((data1['S'][it-1]-DPV(i0,it))/K)+(data1['r'][it-1]+data1['his_vol'][it]**2/2)*(i0+tenor-it)/252)/(data1['his_vol'][it]*np.sqrt(i0+tenor-it)/252)\n",
    "        d2 = d1 - data1['his_vol'][it]*np.sqrt((i0+tenor-it)/252)\n",
    "    else:\n",
    "        d1 = (np.log((data1['S'][it-1]-DPV(i0,it))/K)+(data1['r'][it-1]+BE**2/2)*(i0+tenor-it)/252)/(BE*np.sqrt(i0+tenor-it)/252)\n",
    "        d2 = d1 - BE*np.sqrt((i0+tenor-it)/252)\n",
    "    return [d1, d2]"
   ]
  },
  {
   "cell_type": "code",
   "execution_count": 188,
   "id": "f541ab59",
   "metadata": {},
   "outputs": [],
   "source": [
    "def Delta(i0,it,K,BE):\n",
    "    return norm.cdf(d(i0,it,K,BE)[0])"
   ]
  },
  {
   "cell_type": "code",
   "execution_count": 189,
   "id": "a990135c",
   "metadata": {},
   "outputs": [],
   "source": [
    "def CbsD(i0,it,K,BE):\n",
    "    part1 = (data1['S'][it-1]-DPV(i0,it))*Delta(i0,it,K,BE)\n",
    "    part2 = K*np.exp(-data1['r'][it-1]*(i0+tenor-it)/252)*norm.cdf(d(i0,it,K,BE)[1])\n",
    "    return part1-part2 "
   ]
  },
  {
   "cell_type": "code",
   "execution_count": 261,
   "id": "f8d3e742",
   "metadata": {},
   "outputs": [],
   "source": [
    "def PGenerateD(i0, BE):\n",
    "    \n",
    "    N = 31\n",
    "    dt = tenor/N/252\n",
    "    K = data1['S'][i0-1]\n",
    "    P0 = CbsD(i0,i0,K,BE)\n",
    "    Pt = P0\n",
    "    PPath = [P0]\n",
    "    CPath = []\n",
    "    times = []\n",
    "    for j in range(N):\n",
    "        it = i0 + j*4\n",
    "        times.append(data1.index[it])\n",
    "        dPt = data1['r'][it+4-1]*Pt*dt + Delta(i0,it+4,K,BE)*(data1['dS'][it+4-1]-data1['r'][it+4-1]*data1['S'][it+4-1]*dt)\n",
    "        Pt += dPt\n",
    "        PPath.append(Pt)\n",
    "        CPath.append(CbsD(i0,it,K,BE))\n",
    "    \n",
    "    CPath.append(max(data1['S'][i0+tenor]- K,0))\n",
    "    error = PPath[-1]-CPath[-1]\n",
    "    times.append(data1.index[i0+tenor])\n",
    "    return [PPath,CPath,error,times]"
   ]
  },
  {
   "cell_type": "code",
   "execution_count": null,
   "id": "5a3c073a",
   "metadata": {},
   "outputs": [],
   "source": [
    "# Plot graph of average Hedging Portfolio value paths and average Theoretical Cbs Value Paths\n",
    "fig = plt.figure(figsize=(7, 5))\n",
    "plt.title(\"Hedging Portfolio Value Path V.S. Theoretical Cbs Value Path\",fontsize = 16)\n",
    "plt.xticks(rotation=45, fontsize = 8)\n",
    "plt.xlabel(\"Time\", fontsize = 12)\n",
    "plt.ylabel(\"Value\", fontsize = 12)\n",
    "plt.plot(times,PPath,'b-',label = 'H-Ptfl')\n",
    "plt.plot(times,CPath,'r-',label = 'Theo Cbs')\n",
    "plt.legend(loc='best', fontsize = 12)\n",
    "plt.grid()\n",
    "plt.show()"
   ]
  },
  {
   "cell_type": "markdown",
   "id": "bdd23c48",
   "metadata": {},
   "source": [
    "## <center>Roll the time window ahead<center>"
   ]
  },
  {
   "cell_type": "markdown",
   "id": "848d52d2",
   "metadata": {},
   "source": [
    "__<span style=\"color:blue\">Test between two dates $t_{1}$ and $t_{2} = t_{1} + \\tau$ where $\\tau$ is a tenor, e.g. 6M for testing hedging 6M options. Then you can setup a hedging back-test to run between $t_{1}$ and $t_{2}$. Then you\n",
    "can roll the date $t_{1}$ and $t_{2}$ by one business day, and repeat the hedging back-test. You can repeat over 2-4 years to obtain between 500 to 1000 data points and draw hedging error histograms. (under the assumption that the auto-correlation is weak, something that you can test)</span>__"
   ]
  },
  {
   "cell_type": "code",
   "execution_count": 255,
   "id": "94713b5c",
   "metadata": {},
   "outputs": [],
   "source": [
    "# Roll for 2 years\n",
    "PPaths = []\n",
    "CPaths = []\n",
    "errors = []\n",
    "time_series = []\n",
    "for n in range(126, 625): #625\n",
    "    PPath, CPath, error, times = PGenerateD(n, BE = False)\n",
    "    PPaths.append(PPath)\n",
    "    CPaths.append(CPath)\n",
    "    errors.append(error)\n",
    "    time_series.append(times)"
   ]
  },
  {
   "cell_type": "code",
   "execution_count": 253,
   "id": "3b9ff03a",
   "metadata": {},
   "outputs": [
    {
     "data": {
      "image/png": "[encoded data removed]",
      "text/plain": [
       "<Figure size 700x500 with 1 Axes>"
      ]
     },
     "metadata": {},
     "output_type": "display_data"
    }
   ],
   "source": [
    "# Plot histogram of error\n",
    "fig = plt.figure(figsize=(7, 5))\n",
    "plt.title(\"Error Histogram\",fontsize = 14)\n",
    "plt.xlabel(\"Error\", fontsize = 12)\n",
    "plt.ylabel(\"Density\", fontsize = 12)\n",
    "plt.hist(errors, density=True, bins='auto', histtype='stepfilled', alpha=1, label = \"Error\")\n",
    "plt.legend(loc='best', fontsize = 12)\n",
    "plt.grid()\n",
    "plt.show()"
   ]
  },
  {
   "cell_type": "markdown",
   "id": "db44c3e0",
   "metadata": {},
   "source": [
    "## <center>B/E Volatility<center>"
   ]
  },
  {
   "cell_type": "markdown",
   "id": "d6a1cf83",
   "metadata": {},
   "source": [
    "__<span style=\"color:blue\">For one hedging back-test between $t_{1}$ and $t_{2}$, you can compute the B/E volatility and compare it to the realized one on that same period and compare their difference to the final $P\\&L$ and look at for instance a scatter plot of these quantities. </span>__"
   ]
  },
  {
   "cell_type": "markdown",
   "id": "cae8f822",
   "metadata": {},
   "source": [
    "__<span style=\"color:blue\">You can also compare time series of B/E volatilities to realized ones. If you find implied volatility data, you can also compare to that.</span>__"
   ]
  },
  {
   "cell_type": "markdown",
   "id": "4ced7788",
   "metadata": {},
   "source": [
    "### B/E Volatility:"
   ]
  },
  {
   "cell_type": "markdown",
   "id": "97188a2e",
   "metadata": {},
   "source": [
    "Figure out B/E volatility, by solving the equation that error=0."
   ]
  },
  {
   "cell_type": "code",
   "execution_count": 135,
   "id": "e65c08df",
   "metadata": {},
   "outputs": [],
   "source": [
    "def BEvol(x):\n",
    "    # x is volatility\n",
    "    N = 31\n",
    "    dt = tenor/N/252\n",
    "    K = data1['S'][i0-1]\n",
    "    P0 = CbsD(i0,i0,K,BE = x)\n",
    "    Pt = P0\n",
    "    PPath = [P0]\n",
    "\n",
    "    for j in range(N):\n",
    "        it = i0 + j*4\n",
    "        dPt = data1['r'][it-1]*Pt*dt + Delta(i0,it,K,BE = x)*(data1['dS'][it-1]-data1['r'][it-1]*data1['S'][it-1]*dt)\n",
    "        Pt += dPt\n",
    "        PPath.append(Pt)\n",
    "    \n",
    "    error = PPath[-1]-max(data1['S'][i0+tenor]- K,0)\n",
    "    return error"
   ]
  },
  {
   "cell_type": "code",
   "execution_count": 268,
   "id": "ab859ef8",
   "metadata": {},
   "outputs": [],
   "source": [
    "from scipy.optimize import root\n",
    "\n",
    "BEvols = []\n",
    "for i0 in range(126, 625):\n",
    "    BEvols.append(root(BEvol,data1['his_vol'][i0],tol=1e-10).x[0])"
   ]
  },
  {
   "cell_type": "code",
   "execution_count": 285,
   "id": "9c191a3c",
   "metadata": {},
   "outputs": [
    {
     "data": {
      "text/html": [
       "<div>\n",
       "<style scoped>\n",
       "    .dataframe tbody tr th:only-of-type {\n",
       "        vertical-align: middle;\n",
       "    }\n",
       "\n",
       "    .dataframe tbody tr th {\n",
       "        vertical-align: top;\n",
       "    }\n",
       "\n",
       "    .dataframe thead th {\n",
       "        text-align: right;\n",
       "    }\n",
       "</style>\n",
       "<table border=\"1\" class=\"dataframe\">\n",
       "  <thead>\n",
       "    <tr style=\"text-align: right;\">\n",
       "      <th></th>\n",
       "      <th>BE_vol</th>\n",
       "    </tr>\n",
       "    <tr>\n",
       "      <th>Date</th>\n",
       "      <th></th>\n",
       "    </tr>\n",
       "  </thead>\n",
       "  <tbody>\n",
       "    <tr>\n",
       "      <th>2021-01-04</th>\n",
       "      <td>0.399871</td>\n",
       "    </tr>\n",
       "    <tr>\n",
       "      <th>2021-01-05</th>\n",
       "      <td>0.399958</td>\n",
       "    </tr>\n",
       "    <tr>\n",
       "      <th>2021-01-06</th>\n",
       "      <td>0.400037</td>\n",
       "    </tr>\n",
       "    <tr>\n",
       "      <th>2021-01-07</th>\n",
       "      <td>0.400032</td>\n",
       "    </tr>\n",
       "    <tr>\n",
       "      <th>2021-01-08</th>\n",
       "      <td>0.400100</td>\n",
       "    </tr>\n",
       "    <tr>\n",
       "      <th>...</th>\n",
       "      <td>...</td>\n",
       "    </tr>\n",
       "    <tr>\n",
       "      <th>2022-12-27</th>\n",
       "      <td>0.358515</td>\n",
       "    </tr>\n",
       "    <tr>\n",
       "      <th>2022-12-28</th>\n",
       "      <td>0.358536</td>\n",
       "    </tr>\n",
       "    <tr>\n",
       "      <th>2022-12-29</th>\n",
       "      <td>0.358537</td>\n",
       "    </tr>\n",
       "    <tr>\n",
       "      <th>2022-12-30</th>\n",
       "      <td>0.358529</td>\n",
       "    </tr>\n",
       "    <tr>\n",
       "      <th>2023-01-03</th>\n",
       "      <td>0.358524</td>\n",
       "    </tr>\n",
       "  </tbody>\n",
       "</table>\n",
       "<p>500 rows × 1 columns</p>\n",
       "</div>"
      ],
      "text/plain": [
       "              BE_vol\n",
       "Date                \n",
       "2021-01-04  0.399871\n",
       "2021-01-05  0.399958\n",
       "2021-01-06  0.400037\n",
       "2021-01-07  0.400032\n",
       "2021-01-08  0.400100\n",
       "...              ...\n",
       "2022-12-27  0.358515\n",
       "2022-12-28  0.358536\n",
       "2022-12-29  0.358537\n",
       "2022-12-30  0.358529\n",
       "2023-01-03  0.358524\n",
       "\n",
       "[500 rows x 1 columns]"
      ]
     },
     "execution_count": 285,
     "metadata": {},
     "output_type": "execute_result"
    }
   ],
   "source": [
    "BE_vol = pd.DataFrame(BEvols,index=rea_vol.index, columns=[\"BE_vol\"])\n",
    "BE_vol "
   ]
  },
  {
   "cell_type": "code",
   "execution_count": 344,
   "id": "c9915236",
   "metadata": {},
   "outputs": [],
   "source": [
    "win_vol = pd.DataFrame(index=data1.index, columns=[\"win_vol\"])\n",
    "win_vol = win_vol.loc['2021-01-04':'2023-01-03']\n",
    "\n",
    "rolling_avg = his_vol['his_vol'].rolling(window=tenor, min_periods=1).mean()\n",
    "\n",
    "win_vol['win_vol'] = rolling_avg"
   ]
  },
  {
   "cell_type": "markdown",
   "id": "9ae8baf9",
   "metadata": {},
   "source": [
    "### Realized Volatility:"
   ]
  },
  {
   "cell_type": "markdown",
   "id": "d4e06d2e",
   "metadata": {},
   "source": [
    "Calculate the realized volatility in each time window."
   ]
  },
  {
   "cell_type": "code",
   "execution_count": 345,
   "id": "d4fab640",
   "metadata": {},
   "outputs": [],
   "source": [
    "# Initialize the realized volatility dataframe\n",
    "rea_vol = pd.DataFrame(index=data1.index, columns=[\"rea_vol\"])\n",
    "rea_vol = rea_vol.loc['2021-01-04':'2023-01-03']\n",
    "\n",
    "for i in range(len(rea_vol)):\n",
    "    # roll and use the sigma fomula\n",
    "    column_sum_of_squares = (logS.iloc[0+i:tenor+i] ** 2).sum()\n",
    "    rea_vol.iloc[i] = np.sqrt(252/tenor*column_sum_of_squares)"
   ]
  },
  {
   "cell_type": "markdown",
   "id": "f896b53a",
   "metadata": {},
   "source": [
    "The index is the start day of each time window."
   ]
  },
  {
   "cell_type": "code",
   "execution_count": 287,
   "id": "7c310512",
   "metadata": {},
   "outputs": [
    {
     "data": {
      "text/html": [
       "<div>\n",
       "<style scoped>\n",
       "    .dataframe tbody tr th:only-of-type {\n",
       "        vertical-align: middle;\n",
       "    }\n",
       "\n",
       "    .dataframe tbody tr th {\n",
       "        vertical-align: top;\n",
       "    }\n",
       "\n",
       "    .dataframe thead th {\n",
       "        text-align: right;\n",
       "    }\n",
       "</style>\n",
       "<table border=\"1\" class=\"dataframe\">\n",
       "  <thead>\n",
       "    <tr style=\"text-align: right;\">\n",
       "      <th></th>\n",
       "      <th>his_vol</th>\n",
       "      <th>rea_vol</th>\n",
       "      <th>BE_vol</th>\n",
       "      <th>his-BE</th>\n",
       "      <th>rea-BE</th>\n",
       "    </tr>\n",
       "    <tr>\n",
       "      <th>Date</th>\n",
       "      <th></th>\n",
       "      <th></th>\n",
       "      <th></th>\n",
       "      <th></th>\n",
       "      <th></th>\n",
       "    </tr>\n",
       "  </thead>\n",
       "  <tbody>\n",
       "    <tr>\n",
       "      <th>2021-01-04</th>\n",
       "      <td>0.399871</td>\n",
       "      <td>0.399501</td>\n",
       "      <td>0.399871</td>\n",
       "      <td>0.0</td>\n",
       "      <td>-0.00037</td>\n",
       "    </tr>\n",
       "    <tr>\n",
       "      <th>2021-01-05</th>\n",
       "      <td>0.400045</td>\n",
       "      <td>0.40262</td>\n",
       "      <td>0.399958</td>\n",
       "      <td>0.000087</td>\n",
       "      <td>0.002662</td>\n",
       "    </tr>\n",
       "    <tr>\n",
       "      <th>2021-01-06</th>\n",
       "      <td>0.400194</td>\n",
       "      <td>0.403073</td>\n",
       "      <td>0.400037</td>\n",
       "      <td>0.000158</td>\n",
       "      <td>0.003037</td>\n",
       "    </tr>\n",
       "    <tr>\n",
       "      <th>2021-01-07</th>\n",
       "      <td>0.400018</td>\n",
       "      <td>0.401498</td>\n",
       "      <td>0.400032</td>\n",
       "      <td>-0.000014</td>\n",
       "      <td>0.001466</td>\n",
       "    </tr>\n",
       "    <tr>\n",
       "      <th>2021-01-08</th>\n",
       "      <td>0.400372</td>\n",
       "      <td>0.401625</td>\n",
       "      <td>0.400100</td>\n",
       "      <td>0.000272</td>\n",
       "      <td>0.001525</td>\n",
       "    </tr>\n",
       "    <tr>\n",
       "      <th>...</th>\n",
       "      <td>...</td>\n",
       "      <td>...</td>\n",
       "      <td>...</td>\n",
       "      <td>...</td>\n",
       "      <td>...</td>\n",
       "    </tr>\n",
       "    <tr>\n",
       "      <th>2022-12-27</th>\n",
       "      <td>0.354984</td>\n",
       "      <td>0.350525</td>\n",
       "      <td>0.358515</td>\n",
       "      <td>-0.003531</td>\n",
       "      <td>-0.00799</td>\n",
       "    </tr>\n",
       "    <tr>\n",
       "      <th>2022-12-28</th>\n",
       "      <td>0.355221</td>\n",
       "      <td>0.350854</td>\n",
       "      <td>0.358536</td>\n",
       "      <td>-0.003315</td>\n",
       "      <td>-0.007682</td>\n",
       "    </tr>\n",
       "    <tr>\n",
       "      <th>2022-12-29</th>\n",
       "      <td>0.353013</td>\n",
       "      <td>0.354495</td>\n",
       "      <td>0.358537</td>\n",
       "      <td>-0.005524</td>\n",
       "      <td>-0.004041</td>\n",
       "    </tr>\n",
       "    <tr>\n",
       "      <th>2022-12-30</th>\n",
       "      <td>0.352972</td>\n",
       "      <td>0.355071</td>\n",
       "      <td>0.358529</td>\n",
       "      <td>-0.005557</td>\n",
       "      <td>-0.003458</td>\n",
       "    </tr>\n",
       "    <tr>\n",
       "      <th>2023-01-03</th>\n",
       "      <td>0.35325</td>\n",
       "      <td>0.354503</td>\n",
       "      <td>0.358524</td>\n",
       "      <td>-0.005275</td>\n",
       "      <td>-0.004022</td>\n",
       "    </tr>\n",
       "  </tbody>\n",
       "</table>\n",
       "<p>500 rows × 5 columns</p>\n",
       "</div>"
      ],
      "text/plain": [
       "             his_vol   rea_vol    BE_vol    his-BE    rea-BE\n",
       "Date                                                        \n",
       "2021-01-04  0.399871  0.399501  0.399871       0.0  -0.00037\n",
       "2021-01-05  0.400045   0.40262  0.399958  0.000087  0.002662\n",
       "2021-01-06  0.400194  0.403073  0.400037  0.000158  0.003037\n",
       "2021-01-07  0.400018  0.401498  0.400032 -0.000014  0.001466\n",
       "2021-01-08  0.400372  0.401625  0.400100  0.000272  0.001525\n",
       "...              ...       ...       ...       ...       ...\n",
       "2022-12-27  0.354984  0.350525  0.358515 -0.003531  -0.00799\n",
       "2022-12-28  0.355221  0.350854  0.358536 -0.003315 -0.007682\n",
       "2022-12-29  0.353013  0.354495  0.358537 -0.005524 -0.004041\n",
       "2022-12-30  0.352972  0.355071  0.358529 -0.005557 -0.003458\n",
       "2023-01-03   0.35325  0.354503  0.358524 -0.005275 -0.004022\n",
       "\n",
       "[500 rows x 5 columns]"
      ]
     },
     "execution_count": 287,
     "metadata": {},
     "output_type": "execute_result"
    }
   ],
   "source": [
    "vol = pd.DataFrame(index=data.index)\n",
    "vol = vol.loc['2021-01-04':'2023-01-03']\n",
    "vol['his_vol'] = his_vol['his_vol'].loc['2021-01-04':'2023-01-03']\n",
    "vol['rea_vol'] = rea_vol['rea_vol']\n",
    "vol['BE_vol'] = BE_vol['BE_vol']\n",
    "vol['BE_vol'] = BE_vol['BE_vol']\n",
    "vol['his-BE'] = vol['his_vol']-vol['BE_vol']\n",
    "vol['rea-BE'] = vol['rea_vol']-vol['BE_vol']\n",
    "vol"
   ]
  },
  {
   "cell_type": "markdown",
   "id": "c968e7fb",
   "metadata": {},
   "source": [
    "### Scatter Plot"
   ]
  },
  {
   "cell_type": "code",
   "execution_count": null,
   "id": "ae087cf6",
   "metadata": {},
   "outputs": [],
   "source": [
    "fig, ax1 = plt.subplots(figsize=(7, 5))\n",
    "plt.title(\"The Time Series of the His_vol-BE_vol and P&L\",fontsize = 14)\n",
    "\n",
    "ax1.scatter(vol['his-BE'].index,vol['his-BE'], color='blue',label = 'his_vol-BE_vol')\n",
    "ax1.scatter(vol['rea-BE'].index,vol['rea-BE'], color='green', marker='*', label = 'rea_vol-BE_vol')\n",
    "ax1.set_xlabel('Time',fontsize = 11)\n",
    "ax1.set_ylabel('Difference', color='blue',fontsize = 11)\n",
    "ax1.set_xticks(list(vol['his-BE'].index)[::30])\n",
    "ax1.tick_params(axis='x', rotation=45) \n",
    "\n",
    "ax2 = ax1.twinx()\n",
    "\n",
    "ax2.scatter(vol['his-BE'].index[:-1],errors,color='orange', label = '$P&L$')\n",
    "ax2.set_ylabel('P&L', color='orange',fontsize = 11)\n",
    "\n",
    "ax1.legend(loc='upper left')\n",
    "ax2.legend(loc='upper right')\n",
    "\n",
    "plt.tight_layout()\n",
    "plt.show()"
   ]
  },
  {
   "cell_type": "markdown",
   "id": "8efff760",
   "metadata": {},
   "source": [
    "### Conclusions:"
   ]
  },
  {
   "cell_type": "markdown",
   "id": "c79f7f85",
   "metadata": {},
   "source": [
    "__1. B/E volatility is quite close to both the historical volatility and the realized volatility in each time window.__\n",
    "\n",
    "__2. However, there is no significant relationship between the the final $P\\&L$ and rea_vol-BE_vol or between the the final $P\\&L$ and his_vol-BE_vol.__\n",
    "\n",
    "__3. Since I cannot find the price information during an option's whole life, I cannot figure out the implied volatility in the time window. So, I did not dig deeply into the implied volatility.__\n"
   ]
  },
  {
   "cell_type": "markdown",
   "id": "5c5fb8a5",
   "metadata": {},
   "source": [
    "## <center>B/E Skew<center>"
   ]
  },
  {
   "cell_type": "markdown",
   "id": "99ac7227",
   "metadata": {},
   "source": [
    "__<span style=\"color:blue\">Be creative, test anything you’d like to understand better. For instance, the B/E skew:\n",
    "Once you have find the B/E volatility between $t_{1}$ and $t_{2}$ from hedging an ATM call,\n",
    "you can find the B/E skew, i.e. the parameter $s$ such that hedging an ATM digital\n",
    "call option has zero $P\\&L$. This is done by setting the initial price to $p = p_{bs} + \\nu_{bs} × s$\n",
    "(where $p_{bs}$ is the digital call price in Black-Scholes and $\\nu_{bs}$ is the Black-Scholes vega)\n",
    "and $\\Delta = \\Delta_{bs} + \\frac{\\partial \\nu_{bs}}{\\partial S} × s$ and finding $s$ on a given path that yields a perfect hedging.</span>__"
   ]
  },
  {
   "cell_type": "markdown",
   "id": "be91d22c",
   "metadata": {},
   "source": [
    "### B/E Skew:"
   ]
  },
  {
   "cell_type": "markdown",
   "id": "69f8cf00",
   "metadata": {},
   "source": [
    "$$\\upsilon_{bs} = \\frac{\\partial c}{\\partial \\sigma} = S\\sqrt{T-t}N'(d_1) = \\frac{S\\sqrt{T-t}}{\\sqrt{2\\pi}}e^{-\\frac{d_1^2}{2}}$$"
   ]
  },
  {
   "cell_type": "markdown",
   "id": "86847651",
   "metadata": {},
   "source": [
    "\\begin{align}\n",
    "    \\frac{\\partial \\upsilon_{bs}}{\\partial S} &= \\frac{\\mathrm{d} S}{\\mathrm{d} S}\\sqrt{T-t}N'(d_1)+ S\\sqrt{T-t}\\frac{\\partial N'(d_1)}{\\partial S} \\\\\n",
    "     &= \\frac{\\mathrm{d} S}{\\mathrm{d} S}\\sqrt{T-t}N'(d_1)+ S\\sqrt{T-t}\\frac{\\mathrm{d} N'(d_1)}{\\mathrm{d} d_1}\\frac{\\partial d_1}{\\partial S} \\\\\n",
    "     &= \\frac{\\sqrt{T-t}}{\\sqrt{2\\pi}}e^{-\\frac{d_1^2}{2}}-\\frac{S\\sqrt{T-t}}{\\sqrt{2\\pi}}e^{-\\frac{d_1^2}{2}}\\frac{d_1}{\\sigma\\sqrt{T-t}S} \\\\\n",
    "     &=(\\sqrt{T-t}-\\frac{d_1}{\\sigma})N'(d_1)\n",
    "\\end{align}"
   ]
  },
  {
   "cell_type": "code",
   "execution_count": 351,
   "id": "33a06a46",
   "metadata": {},
   "outputs": [],
   "source": [
    "def Vega(i0,it,K,BE):\n",
    "    return data1['S'][it-1]*np.sqrt((i0+tenor-it)/252)*norm.pdf(d(i0,it,K,BE)[0])"
   ]
  },
  {
   "cell_type": "code",
   "execution_count": 350,
   "id": "ec3b8d73",
   "metadata": {},
   "outputs": [],
   "source": [
    "def VegaS(i0,it,K,BE):\n",
    "    return (np.sqrt((i0+tenor-it)/252)-d(i0,it,K,BE)[0]/data1['his_vol'][it])*norm.pdf(d(i0,it,K,BE)[0])"
   ]
  },
  {
   "cell_type": "code",
   "execution_count": 357,
   "id": "bc6fa0ad",
   "metadata": {},
   "outputs": [],
   "source": [
    "def PerfectError(s):\n",
    "    \n",
    "    N = 31\n",
    "    dt = tenor/N/252\n",
    "    K = data1['S'][i0-1] #ATM\n",
    "    BE = False\n",
    "    P0 = CbsD(i0,i0,K,BE)+Vega(i0,i0,K,BE)*s\n",
    "    Pt = P0\n",
    "    PE_PPath = [P0]\n",
    "    PE_times = []\n",
    "    for j in range(N):\n",
    "        it = i0 + j*4\n",
    "        times.append(data1.index[it])\n",
    "        local_delta = Delta(i0,it,K,BE)+VegaS(i0,it,K,BE)*s\n",
    "        dPt = data1['r'][it-1]*Pt*dt + local_delta*(data1['dS'][it-1]-data1['r'][it-1]*data1['S'][it-1]*dt)\n",
    "        Pt += dPt\n",
    "        PE_PPath.append(Pt)\n",
    "    \n",
    "    error = PE_PPath[-1]-(max(data1['S'][i0+tenor]- K,0))\n",
    "    PE_times.append(data1.index[i0+tenor])\n",
    "    return error"
   ]
  },
  {
   "cell_type": "code",
   "execution_count": 358,
   "id": "ff8fec29",
   "metadata": {},
   "outputs": [
    {
     "data": {
      "text/plain": [
       " message: The solution converged.\n",
       " success: True\n",
       "  status: 1\n",
       "     fun: [ 0.000e+00]\n",
       "       x: [-1.259e+00]\n",
       "    nfev: 10\n",
       "    fjac: [[-1.000e+00]]\n",
       "       r: [-4.584e+00]\n",
       "     qtf: [ 8.882e-16]"
      ]
     },
     "execution_count": 358,
     "metadata": {},
     "output_type": "execute_result"
    }
   ],
   "source": [
    "# Test\n",
    "i0 = 126\n",
    "solution = root(PerfectError,0.0001,tol=1e-10)"
   ]
  },
  {
   "cell_type": "code",
   "execution_count": 366,
   "id": "b771a1eb",
   "metadata": {},
   "outputs": [],
   "source": [
    "from scipy.optimize import root\n",
    "\n",
    "ss = []\n",
    "for i0 in range(126, 625):\n",
    "    ss.append(root(PerfectError,0.0001,tol=1e-10).x[0])"
   ]
  },
  {
   "cell_type": "markdown",
   "id": "06c99703",
   "metadata": {},
   "source": [
    "Plot the $s$ in each time window into this histogram."
   ]
  },
  {
   "cell_type": "code",
   "execution_count": 368,
   "id": "a582d464",
   "metadata": {},
   "outputs": [
    {
     "data": {
      "image/png": "[encoded data removed]",
      "text/plain": [
       "<Figure size 700x500 with 1 Axes>"
      ]
     },
     "metadata": {},
     "output_type": "display_data"
    }
   ],
   "source": [
    "# Plot parameter s\n",
    "fig = plt.figure(figsize=(7, 5))\n",
    "plt.title(\"Parameter s Histogram\",fontsize = 14)\n",
    "plt.xlabel(\"s\", fontsize = 12)\n",
    "plt.ylabel(\"Density\", fontsize = 12)\n",
    "plt.hist(ss, density=True, bins='auto', histtype='stepfilled', alpha=1, label = \"Error\")\n",
    "plt.legend(loc='best', fontsize = 12)\n",
    "plt.grid()\n",
    "plt.show()"
   ]
  },
  {
   "cell_type": "markdown",
   "id": "0da8e773",
   "metadata": {},
   "source": [
    "$s$ is as above shows."
   ]
  },
  {
   "cell_type": "markdown",
   "id": "64f4ea1b",
   "metadata": {},
   "source": [
    "### <center>END<center>"
   ]
  }
 ],
 "metadata": {
  "kernelspec": {
   "display_name": "Python 3 (ipykernel)",
   "language": "python",
   "name": "python3"
  },
  "language_info": {
   "codemirror_mode": {
    "name": "ipython",
    "version": 3
   },
   "file_extension": ".py",
   "mimetype": "text/x-python",
   "name": "python",
   "nbconvert_exporter": "python",
   "pygments_lexer": "ipython3",
   "version": "3.11.4"
  }
 },
 "nbformat": 4,
 "nbformat_minor": 5
}
